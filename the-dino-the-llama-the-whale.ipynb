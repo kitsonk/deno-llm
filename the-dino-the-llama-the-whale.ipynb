{
 "cells": [
  {
   "cell_type": "markdown",
   "metadata": {},
   "source": [
    "# The dino, the llama, and the whale\n",
    "\n",
    "I have had a desire for a while to understand what it would take to be able to\n",
    "interact with a locally hosted large language model and with the release of\n",
    "DeepSeek R1, a reasoning model, was enough of a prompt to figure out how to\n",
    "tackle it.\n",
    "\n",
    "My day job is a Principal Technologist at CTO Labs, where we advise investors,\n",
    "senior executives and boards on technology. A topic that is always of interest\n",
    "is the impacts of emergent technologies on organizations, and at the moment\n",
    "there is no bigger technology topic than AI. One of the ways we keep fresh on\n",
    "those impacts is our own real world use cases.\n",
    "\n",
    "While I knew Python is the _de facto_ language of data, ML and AI, I was also\n",
    "curious what the state of TypeScript/Javascript was in the space as well,\n",
    "because that is personally a lot more familiar to me. While I am biased, being a\n",
    "former core contributor to Deno, I have always liked the \"batteries included\"\n",
    "approach to being a development tool.\n",
    "\n",
    "I was also curious about Jupyter notebooks, all my data scientist colleagues\n",
    "were strong advocates of them, and when I was a core contributor at Deno, I\n",
    "strongly advocated for us to pursue kernel support integrated into Deno, but I\n",
    "never had a personal use case the drove me to experiment with it.\n",
    "\n",
    "Could my favorite development tool, plus a development environment specifically\n",
    "suited to the task be an easy way to learn and experiment with AI? Skipping to\n",
    "the end the answer is yes.\n",
    "\n",
    "I am going to take you on the journey that I went on..."
   ]
  },
  {
   "cell_type": "markdown",
   "metadata": {},
   "source": [
    "## Getting started\n",
    "\n",
    "There are a few components to our journey:\n",
    "\n",
    "- **An environment for our language model** – while you can connect up to\n",
    "  various LLM hosting environments via APIs, we are going to leverage the\n",
    "  [Ollama](https://ollama.com/) which is a lightweight framework for running\n",
    "  language models on your local machine.\n",
    "- **A large language model** - we are going to use a version of\n",
    "  [DeepSeek R1](https://www.deepseek.com/) that has been resized to be usable\n",
    "  locally.\n",
    "- **A notebook** - [Jupyter Notebook](https://jupyter.org/) is an interactive\n",
    "  computing platform that allows integrating live code, narrative text,\n",
    "  visualizations, interactive dashboards and other media.\n",
    "- **Deno** - In order to support a language, Jupyter Notebooks require what is\n",
    "  called a kernel, which will provide the execution of the live code. The Deno\n",
    "  runtime comes with the kernel built in. We assume a recent version is\n",
    "  [installed](https://docs.deno.com/runtime/getting_started/installation/).\n",
    "- **An IDE** - We are going to use [VSCode](https://code.visualstudio.com/)\n",
    "  which has built-in support for Jupyter Notebooks and easily integrates with\n",
    "  Deno, bringing it all together. Also grab the Deno vscode\n",
    "  [extension](https://marketplace.visualstudio.com/items?itemName=denoland.vscode-deno)\n",
    "  if you don't.\n",
    "- **An AI library/framework** - In order to easily orchestrate interacting with\n",
    "  the LLM, it helps to use a library that simplifies it, and\n",
    "  [LangChain.js](https://js.langchain.com/) provides that capability, while also\n",
    "  being a good way to easily extend and create more complex AI workflows after\n",
    "  we are done here.\n",
    "- **A schema validator** - We are going to structure our output from the LLM.\n",
    "  There is no requirement to do this, but from an experiment perspective it\n",
    "  might give you ideas about how you might integrate the output into a larger\n",
    "  process. LangChain.js supports [zod](https://zod.dev/) and JSON Schema\n",
    "  schemas. We will use zod.\n",
    "\n",
    "Once assembled, we will have a fully local environment where we can query the\n",
    "LLM and get responses.\n",
    "\n",
    "We are going to have to do a couple things on the command line to get things\n",
    "setup, I am going to give instructions for a Mac M1, but everything should work\n",
    "on a Windows or Linux machine as well. Even though we are running a smaller\n",
    "model, depending the type of CPU, GPU and amount of memory you have on your\n",
    "machine, your performance may vary greatly.\n",
    "\n",
    "You will also want to create a path/directory for your notebook and have vscode\n",
    "opened to that path. I am going to assume you are running the command line\n",
    "commands via the integrated terminal in vscode.\n",
    "\n",
    "Also, in order to get Deno code completion and intellisense in vscode, you will\n",
    "likely need to enable use the _Deno: Enable_ command from the command palette or\n",
    "create a `deno.json` file in your workspace."
   ]
  },
  {
   "cell_type": "markdown",
   "metadata": {},
   "source": [
    "## Setting up a local model\n",
    "\n",
    "Download and install [Ollama](https://ollama.com/download) if you haven't\n",
    "already. Once installed the `ollama` command should be available in the terminal\n",
    "and you will want to ensure the Ollama server is running (which should be on\n",
    "port 11434).\n",
    "\n",
    "Install DeepSeek R1 8b parameter model:\n",
    "\n",
    "```\n",
    "ollama pull deepseek-r1:8b\n",
    "```\n",
    "\n",
    "You should see the model being retrieved and once completed `ollama list` can be\n",
    "used to validate it is available."
   ]
  },
  {
   "cell_type": "markdown",
   "metadata": {},
   "source": [
    "## Creating a notebook\n",
    "\n",
    "In vscode, you use the _Create: New Jupyter Notebook_ from the command palette\n",
    "and then you can either click on the _Select Kernel_ button in the workbook or\n",
    "use the _Notebook: Select Notebook Kernel_ from the command palette and then\n",
    "select _Deno_. If you don't have Deno listed as an option, it is likely you do\n",
    "not have the Deno vscode plugin installed or up to date.\n",
    "\n",
    "If you aren't familiar with Jupyter Notebooks, they essentially allow you to add\n",
    "blocks of code and markdown to a document and interact with them. As we go\n",
    "through the steps below providing code snippets, it is expected that you will be\n",
    "adding these to your notebook."
   ]
  },
  {
   "cell_type": "markdown",
   "metadata": {},
   "source": [
    "## Using the model\n",
    "\n",
    "The first thing we need to do is get a reference to the model. LangChain.js\n",
    "provides a consistent interface to interact with large language model\n",
    "environments including Ollama. So let's grab that class and request the model we\n",
    "previously pulled:"
   ]
  },
  {
   "cell_type": "code",
   "execution_count": 3,
   "metadata": {},
   "outputs": [],
   "source": [
    "import { ChatOllama } from \"npm:@langchain/ollama\";\n",
    "\n",
    "const model = new ChatOllama({\n",
    "  model: \"deepseek-r1:8b\",\n",
    "});"
   ]
  },
  {
   "cell_type": "markdown",
   "metadata": {},
   "source": [
    "## Generating a chain\n",
    "\n",
    "One of the things about LangChain.js is that it is designed to be a framework\n",
    "for interacting with AI and has extensive APIs to create chains, where you can\n",
    "bring together parts to create a higher order capability.\n",
    "\n",
    "Here we want to create a chain of activities that provides a simple interface\n",
    "that generates a template that instructs the LLM to respond to questions with a\n",
    "JSON object that adheres to a schema we are going to provide it:"
   ]
  },
  {
   "cell_type": "code",
   "execution_count": 10,
   "metadata": {},
   "outputs": [
    {
     "data": {
      "text/markdown": [
       "You must format your output as a JSON value that adheres to a given \"JSON Schema\" instance.\n",
       "\n",
       "\"JSON Schema\" is a declarative language that allows you to annotate and validate JSON documents.\n",
       "\n",
       "For example, the example \"JSON Schema\" instance {{\"properties\": {{\"foo\": {{\"description\": \"a list of test words\", \"type\": \"array\", \"items\": {{\"type\": \"string\"}}}}}}, \"required\": [\"foo\"]}}}}\n",
       "would match an object with one required property, \"foo\". The \"type\" property specifies \"foo\" must be an \"array\", and the \"description\" property semantically describes it as \"a list of test words\". The items within \"foo\" must be strings.\n",
       "Thus, the object {{\"foo\": [\"bar\", \"baz\"]}} is a well-formatted instance of this example \"JSON Schema\". The object {{\"properties\": {{\"foo\": [\"bar\", \"baz\"]}}}} is not well-formatted.\n",
       "\n",
       "Your output will be parsed and type-checked according to the provided schema instance, so make sure all fields in your output match the schema exactly and there are no trailing commas!\n",
       "\n",
       "Here is the JSON Schema instance your output must adhere to. Include the enclosing markdown codeblock:\n",
       "```json\n",
       "{\"type\":\"object\",\"properties\":{\"answer\":{\"type\":\"string\",\"description\":\"answer to the user's question\"},\"source\":{\"type\":\"string\",\"description\":\"source used to answer the user's question, should be a website.\"}},\"required\":[\"answer\",\"source\"],\"additionalProperties\":false,\"$schema\":\"http://json-schema.org/draft-07/schema#\"}\n",
       "```\n"
      ]
     },
     "execution_count": 10,
     "metadata": {},
     "output_type": "execute_result"
    }
   ],
   "source": [
    "import { z } from \"npm:zod\";\n",
    "\n",
    "import { RunnableSequence } from \"npm:@langchain/core/runnables\";\n",
    "import { StructuredOutputParser } from \"npm:@langchain/core/output_parsers\";\n",
    "import { ChatPromptTemplate } from \"npm:@langchain/core/prompts\";\n",
    "\n",
    "const zodSchema = z.object({\n",
    "  answer: z.string().describe(\"answer to the user's question\"),\n",
    "  source: z\n",
    "    .string()\n",
    "    .describe(\n",
    "      \"source used to answer the user's question, should be a website.\",\n",
    "    ),\n",
    "});\n",
    "\n",
    "const parser = StructuredOutputParser.fromZodSchema(zodSchema);\n",
    "\n",
    "const chain = RunnableSequence.from([\n",
    "  ChatPromptTemplate.fromTemplate(\n",
    "    \"Answer the users question as best as possible.\\n{format_instructions}\\n{question}\",\n",
    "  ),\n",
    "  model,\n",
    "  parser,\n",
    "]);\n",
    "\n",
    "// Display the format instructions template\n",
    "Deno.jupyter.md`${parser.getFormatInstructions()}`;"
   ]
  },
  {
   "cell_type": "markdown",
   "metadata": {},
   "source": [
    "## Documenting our process\n",
    "\n",
    "One of the things we might want to do is document our process that we created,\n",
    "for our own purposes or as part of self documenting code.\n",
    "\n",
    "Both LangChain.js, Deno and Jupyter can work together to make that super easy\n",
    "for us:"
   ]
  },
  {
   "cell_type": "code",
   "execution_count": 5,
   "metadata": {},
   "outputs": [
    {
     "data": {
      "image/jpeg": "[encoded data removed]"
     },
     "execution_count": 5,
     "metadata": {},
     "output_type": "execute_result"
    }
   ],
   "source": [
    "const image = await chain.getGraph().drawMermaidPng();\n",
    "const arrayBuffer = await image.arrayBuffer();\n",
    "\n",
    "Deno.jupyter.image(new Uint8Array(arrayBuffer));"
   ]
  },
  {
   "cell_type": "markdown",
   "metadata": {},
   "source": [
    "## Asking a question\n",
    "\n",
    "Now we can take our little LLM app for a spin. We can ask it a question and\n",
    "along with our instructions on how to format the response:"
   ]
  },
  {
   "cell_type": "code",
   "execution_count": 9,
   "metadata": {},
   "outputs": [
    {
     "name": "stdout",
     "output_type": "stream",
     "text": [
      "{\n",
      "  answer: \"Deno is a runtime environment designed for web development. It is built on V8 (the same engine as Google's Chrome) and supports ES modules, async functions, and modern JavaScript features. Deno is known for its modular approach, strong concurrency model, and security-focused design. It is often used for running tests, CLI tools, and small-to-medium web applications due to its performance and simplicity.\",\n",
      "  source: \"https://deno.dev\"\n",
      "}\n"
     ]
    }
   ],
   "source": [
    "const response = await chain.invoke({\n",
    "  question: \"What is a Deno?\",\n",
    "  format_instructions: parser.getFormatInstructions(),\n",
    "});\n",
    "\n",
    "console.log(response);"
   ]
  },
  {
   "cell_type": "markdown",
   "metadata": {},
   "source": [
    "## In the end\n",
    "\n",
    "I found in my experimentation that the combination of Deno and Jupyter made it\n",
    "fun and productive to experiment with AI. While there is a little bit of setup,\n",
    "it really was related to getting an LLM running locally. I could have just as\n",
    "easily grabbed an\n",
    "[API token and started interacting](https://js.langchain.com/docs/tutorials/llm_chain)\n",
    "with Groq, OpenAI, Anthropic or several other public cloud providers.\n",
    "\n",
    "I already knew how low-friction Deno can be developing, with its batteries\n",
    "included approach, but I have realized the joy of working with Jupyter Notebooks\n",
    "now. The incremental approach to exploring something, clearly working out steps\n",
    "in a developer friendly way with the ability to robustly document your thinking\n",
    "as you go along is great. In fact I think it has transformed my goto development\n",
    "experience."
   ]
  }
 ],
 "metadata": {
  "kernelspec": {
   "display_name": "Deno",
   "language": "typescript",
   "name": "deno"
  },
  "language_info": {
   "codemirror_mode": "typescript",
   "file_extension": ".ts",
   "mimetype": "text/x.typescript",
   "name": "typescript",
   "nbconvert_exporter": "script",
   "pygments_lexer": "typescript",
   "version": "5.7.3"
  }
 },
 "nbformat": 4,
 "nbformat_minor": 2
}
